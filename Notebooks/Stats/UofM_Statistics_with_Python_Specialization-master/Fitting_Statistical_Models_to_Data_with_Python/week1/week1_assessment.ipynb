{
 "cells": [
  {
   "cell_type": "markdown",
   "metadata": {
    "colab_type": "text",
    "id": "J5p3JZwvGQEe"
   },
   "source": [
    "You will use the values of what you find in this assignment to answer questions in the quiz that follows. You may want to open this notebook to be displayed side-by-side on screen with this next quiz."
   ]
  },
  {
   "cell_type": "markdown",
   "metadata": {
    "colab_type": "text",
    "id": "20Hp_V-eFzbI"
   },
   "source": [
    "1. Write a function that inputs an integers and returns the negative"
   ]
  },
  {
   "cell_type": "code",
   "execution_count": 1,
   "metadata": {
    "colab": {},
    "colab_type": "code",
    "id": "tFPbRKR4FzbL"
   },
   "outputs": [],
   "source": [
    "# Write your function here\n",
    "def some_function(Int_input):\n",
    "    return -Int_input"
   ]
  },
  {
   "cell_type": "code",
   "execution_count": 2,
   "metadata": {
    "colab": {},
    "colab_type": "code",
    "id": "jW5MfUUnFzbQ"
   },
   "outputs": [
    {
     "name": "stdout",
     "output_type": "stream",
     "text": [
      "-4\n"
     ]
    }
   ],
   "source": [
    "# Test your function with input x\n",
    "x = 4\n",
    "Output = some_function(x)\n",
    "print(Output)"
   ]
  },
  {
   "cell_type": "markdown",
   "metadata": {
    "colab_type": "text",
    "id": "f6kLOf6_FzbU"
   },
   "source": [
    "2. Write a function that inputs a list of integers and returns the minimum value"
   ]
  },
  {
   "cell_type": "code",
   "execution_count": 3,
   "metadata": {
    "colab": {},
    "colab_type": "code",
    "id": "IHV-wS_hFzbW"
   },
   "outputs": [],
   "source": [
    "# Write your function here\n",
    "def ListFun(lst):\n",
    "    return min(lst)"
   ]
  },
  {
   "cell_type": "code",
   "execution_count": 4,
   "metadata": {
    "colab": {},
    "colab_type": "code",
    "id": "EfvSeoaOFzba"
   },
   "outputs": [
    {
     "name": "stdout",
     "output_type": "stream",
     "text": [
      "-3\n",
      "-234\n"
     ]
    }
   ],
   "source": [
    "\n",
    "# Test your function with input lst\n",
    "lst = [-3, 0, 2, 100, -1, 2]\n",
    "print(ListFun(lst))\n",
    "\n",
    "# Create you own input list to test with\n",
    "my_lst = [324,-234,284,34975,0,-23,34978,-213]\n",
    "print(ListFun(my_lst))"
   ]
  },
  {
   "cell_type": "markdown",
   "metadata": {
    "colab_type": "text",
    "id": "-yjvHCDuFzbd"
   },
   "source": [
    "#### Challenge problem:  \n",
    "Write a function that take in four arguments: lst1, lst2, str1, str2, and returns a pandas DataFrame that has the first column labeled str1 and the second column labaled str2, that have values lst1 and lst2 scaled to be between 0 and 1.\n",
    "\n",
    "For example\n",
    "```\n",
    "lst1 = [1, 2, 3]\n",
    "lst2 = [2, 4, 5]\n",
    "str1 = 'one'\n",
    "str2 = 'two'\n",
    "\n",
    "my_function(lst1, lst2, str1, str2)\n",
    "``` \n",
    "should return a DataFrame that looks like:\n",
    "\n",
    "\n",
    "\n",
    "|  <i></i> | one | two |\n",
    "| --- | --- | --- |\n",
    "| 0 | 0 | 0 |\n",
    "| 1 | .5 | .666 |\n",
    "| 2 | 1 | 1 |\n",
    "\n"
   ]
  },
  {
   "cell_type": "code",
   "execution_count": 5,
   "metadata": {
    "colab": {},
    "colab_type": "code",
    "id": "UhTlOZX1Fzbf"
   },
   "outputs": [],
   "source": [
    "import pandas as pd\n",
    "def Challenge(lst1, lst2, str1, str2):\n",
    "    df = pd.DataFrame({str1:lst1, str2:lst2})\n",
    "    return df"
   ]
  },
  {
   "cell_type": "code",
   "execution_count": 6,
   "metadata": {
    "colab": {},
    "colab_type": "code",
    "id": "0yABet-jFzbi"
   },
   "outputs": [],
   "source": [
    "# test your challenge problem function\n",
    "import numpy as np\n",
    "\n",
    "lst1 = np.random.randint(-234, 938, 100)\n",
    "lst2 = np.random.randint(-522, 123, 100)\n",
    "str1 = 'one'\n",
    "str2 = 'alpha'"
   ]
  },
  {
   "cell_type": "code",
   "execution_count": 7,
   "metadata": {},
   "outputs": [
    {
     "name": "stdout",
     "output_type": "stream",
     "text": [
      "    one  alpha\n",
      "0   128   -310\n",
      "1    89    -64\n",
      "2   738    -43\n",
      "3   504   -370\n",
      "4   225     72\n",
      "5   323   -383\n",
      "6    27   -383\n",
      "7   906     40\n",
      "8   264   -184\n",
      "9  -173   -343\n",
      "10  348   -471\n",
      "11  -40   -348\n",
      "12  -86    103\n",
      "13  412   -285\n",
      "14  766   -339\n",
      "15 -187   -366\n",
      "16  122   -276\n",
      "17  421   -133\n",
      "18 -209   -417\n",
      "19  -83   -219\n",
      "20  882     23\n",
      "21  509     49\n",
      "22  202     14\n",
      "23 -145   -336\n",
      "24  -54   -329\n",
      "25  551    -16\n",
      "26  362   -462\n",
      "27  666    -87\n",
      "28  -95   -319\n",
      "29   70    -85\n",
      "..  ...    ...\n",
      "70  638   -123\n",
      "71  384   -452\n",
      "72  108   -193\n",
      "73  734   -416\n",
      "74 -135   -437\n",
      "75   68   -367\n",
      "76  382   -381\n",
      "77  153   -462\n",
      "78  879   -498\n",
      "79  261   -494\n",
      "80   78   -125\n",
      "81  193    -68\n",
      "82  185   -378\n",
      "83  850     16\n",
      "84  353     15\n",
      "85   72   -140\n",
      "86 -160   -315\n",
      "87   97     41\n",
      "88 -200    102\n",
      "89  787   -521\n",
      "90  483   -130\n",
      "91 -117     65\n",
      "92 -188   -107\n",
      "93  -85    112\n",
      "94  230   -126\n",
      "95  232    -82\n",
      "96  656     81\n",
      "97 -231     84\n",
      "98  912   -482\n",
      "99 -216    -77\n",
      "\n",
      "[100 rows x 2 columns]\n"
     ]
    }
   ],
   "source": [
    "print(Challenge(lst1, lst2, str1, str2))"
   ]
  },
  {
   "cell_type": "code",
   "execution_count": null,
   "metadata": {},
   "outputs": [],
   "source": []
  }
 ],
 "metadata": {
  "colab": {
   "collapsed_sections": [],
   "name": "week1_assessment.ipynb",
   "provenance": [],
   "version": "0.3.2"
  },
  "kernelspec": {
   "display_name": "Python 3",
   "language": "python",
   "name": "python3"
  },
  "language_info": {
   "codemirror_mode": {
    "name": "ipython",
    "version": 3
   },
   "file_extension": ".py",
   "mimetype": "text/x-python",
   "name": "python",
   "nbconvert_exporter": "python",
   "pygments_lexer": "ipython3",
   "version": "3.6.3"
  }
 },
 "nbformat": 4,
 "nbformat_minor": 1
}
